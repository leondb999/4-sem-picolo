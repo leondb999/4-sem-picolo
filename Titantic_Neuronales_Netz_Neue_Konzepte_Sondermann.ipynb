{
  "nbformat": 4,
  "nbformat_minor": 0,
  "metadata": {
    "colab": {
      "name": "Titantic-Neuronales-Netz-Neue Konzepte-Sondermann ",
      "provenance": [],
      "collapsed_sections": [],
      "authorship_tag": "ABX9TyMPFqs3IrRUYCqUfRs+/2fx",
      "include_colab_link": true
    },
    "kernelspec": {
      "name": "python3",
      "display_name": "Python 3"
    },
    "language_info": {
      "name": "python"
    }
  },
  "cells": [
    {
      "cell_type": "markdown",
      "metadata": {
        "id": "view-in-github",
        "colab_type": "text"
      },
      "source": [
        "<a href=\"https://colab.research.google.com/github/leondb999/4-sem-picolo/blob/master/Titantic_Neuronales_Netz_Neue_Konzepte_Sondermann.ipynb\" target=\"_parent\"><img src=\"https://colab.research.google.com/assets/colab-badge.svg\" alt=\"Open In Colab\"/></a>"
      ]
    },
    {
      "cell_type": "code",
      "metadata": {
        "id": "fFGwXol-lum9"
      },
      "source": [
        "# Lösung von Leon Dickob"
      ],
      "execution_count": null,
      "outputs": []
    },
    {
      "cell_type": "code",
      "metadata": {
        "id": "uBGIZo1ui24i"
      },
      "source": [
        "import numpy as np\n",
        "import pandas as pd\n",
        "import tensorflow as tf\n",
        "from tensorflow import keras\n",
        "from tensorflow.keras import optimizers\n"
      ],
      "execution_count": null,
      "outputs": []
    },
    {
      "cell_type": "code",
      "metadata": {
        "colab": {
          "resources": {
            "http://localhost:8080/nbextensions/google.colab/files.js": {
              "data": "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",
              "ok": true,
              "headers": [
                [
                  "content-type",
                  "application/javascript"
                ]
              ],
              "status": 200,
              "status_text": ""
            }
          },
          "base_uri": "https://localhost:8080/",
          "height": 582
        },
        "id": "lSL-2ieoi9jE",
        "outputId": "6896332e-5ebd-42a7-9d24-b46335e6b3f2"
      },
      "source": [
        "from google.colab import files\n",
        "uploaded1 = files.upload()\n",
        "uploaded2 = files.upload()\n",
        "uploaded3 = files.upload()\n",
        "\n",
        "import pandas as pd\n",
        "import io\n",
        "\n",
        "train_set = pd.read_csv(io.StringIO(uploaded1['train.csv'].decode('utf-8')))\n",
        "test_set = pd.read_csv(io.StringIO(uploaded2['test.csv'].decode('utf-8')))\n",
        "output_set = pd.read_csv(io.StringIO(uploaded3['gender_submission.csv'].decode('utf-8')))\n",
        "train_set"
      ],
      "execution_count": null,
      "outputs": [
        {
          "output_type": "display_data",
          "data": {
            "text/html": [
              "\n",
              "     <input type=\"file\" id=\"files-dc9f374e-4b20-424c-a000-7602a72344a2\" name=\"files[]\" multiple disabled\n",
              "        style=\"border:none\" />\n",
              "     <output id=\"result-dc9f374e-4b20-424c-a000-7602a72344a2\">\n",
              "      Upload widget is only available when the cell has been executed in the\n",
              "      current browser session. Please rerun this cell to enable.\n",
              "      </output>\n",
              "      <script src=\"/nbextensions/google.colab/files.js\"></script> "
            ],
            "text/plain": [
              "<IPython.core.display.HTML object>"
            ]
          },
          "metadata": {}
        },
        {
          "output_type": "stream",
          "name": "stdout",
          "text": [
            "Saving train.csv to train.csv\n"
          ]
        },
        {
          "output_type": "display_data",
          "data": {
            "text/html": [
              "\n",
              "     <input type=\"file\" id=\"files-c3050faf-5442-407c-aa1a-49df74115b92\" name=\"files[]\" multiple disabled\n",
              "        style=\"border:none\" />\n",
              "     <output id=\"result-c3050faf-5442-407c-aa1a-49df74115b92\">\n",
              "      Upload widget is only available when the cell has been executed in the\n",
              "      current browser session. Please rerun this cell to enable.\n",
              "      </output>\n",
              "      <script src=\"/nbextensions/google.colab/files.js\"></script> "
            ],
            "text/plain": [
              "<IPython.core.display.HTML object>"
            ]
          },
          "metadata": {}
        },
        {
          "output_type": "stream",
          "name": "stdout",
          "text": [
            "Saving test.csv to test.csv\n"
          ]
        },
        {
          "output_type": "display_data",
          "data": {
            "text/html": [
              "\n",
              "     <input type=\"file\" id=\"files-35c10e62-7d05-49b5-97a2-8515c5966770\" name=\"files[]\" multiple disabled\n",
              "        style=\"border:none\" />\n",
              "     <output id=\"result-35c10e62-7d05-49b5-97a2-8515c5966770\">\n",
              "      Upload widget is only available when the cell has been executed in the\n",
              "      current browser session. Please rerun this cell to enable.\n",
              "      </output>\n",
              "      <script src=\"/nbextensions/google.colab/files.js\"></script> "
            ],
            "text/plain": [
              "<IPython.core.display.HTML object>"
            ]
          },
          "metadata": {}
        },
        {
          "output_type": "stream",
          "name": "stdout",
          "text": [
            "Saving gender_submission.csv to gender_submission.csv\n"
          ]
        },
        {
          "output_type": "execute_result",
          "data": {
            "text/html": [
              "<div>\n",
              "<style scoped>\n",
              "    .dataframe tbody tr th:only-of-type {\n",
              "        vertical-align: middle;\n",
              "    }\n",
              "\n",
              "    .dataframe tbody tr th {\n",
              "        vertical-align: top;\n",
              "    }\n",
              "\n",
              "    .dataframe thead th {\n",
              "        text-align: right;\n",
              "    }\n",
              "</style>\n",
              "<table border=\"1\" class=\"dataframe\">\n",
              "  <thead>\n",
              "    <tr style=\"text-align: right;\">\n",
              "      <th></th>\n",
              "      <th>PassengerId</th>\n",
              "      <th>Survived</th>\n",
              "      <th>Pclass</th>\n",
              "      <th>Name</th>\n",
              "      <th>Sex</th>\n",
              "      <th>Age</th>\n",
              "      <th>SibSp</th>\n",
              "      <th>Parch</th>\n",
              "      <th>Ticket</th>\n",
              "      <th>Fare</th>\n",
              "      <th>Cabin</th>\n",
              "      <th>Embarked</th>\n",
              "    </tr>\n",
              "  </thead>\n",
              "  <tbody>\n",
              "    <tr>\n",
              "      <th>0</th>\n",
              "      <td>1</td>\n",
              "      <td>0</td>\n",
              "      <td>3</td>\n",
              "      <td>Braund, Mr. Owen Harris</td>\n",
              "      <td>male</td>\n",
              "      <td>22.0</td>\n",
              "      <td>1</td>\n",
              "      <td>0</td>\n",
              "      <td>A/5 21171</td>\n",
              "      <td>7.2500</td>\n",
              "      <td>NaN</td>\n",
              "      <td>S</td>\n",
              "    </tr>\n",
              "    <tr>\n",
              "      <th>1</th>\n",
              "      <td>2</td>\n",
              "      <td>1</td>\n",
              "      <td>1</td>\n",
              "      <td>Cumings, Mrs. John Bradley (Florence Briggs Th...</td>\n",
              "      <td>female</td>\n",
              "      <td>38.0</td>\n",
              "      <td>1</td>\n",
              "      <td>0</td>\n",
              "      <td>PC 17599</td>\n",
              "      <td>71.2833</td>\n",
              "      <td>C85</td>\n",
              "      <td>C</td>\n",
              "    </tr>\n",
              "    <tr>\n",
              "      <th>2</th>\n",
              "      <td>3</td>\n",
              "      <td>1</td>\n",
              "      <td>3</td>\n",
              "      <td>Heikkinen, Miss. Laina</td>\n",
              "      <td>female</td>\n",
              "      <td>26.0</td>\n",
              "      <td>0</td>\n",
              "      <td>0</td>\n",
              "      <td>STON/O2. 3101282</td>\n",
              "      <td>7.9250</td>\n",
              "      <td>NaN</td>\n",
              "      <td>S</td>\n",
              "    </tr>\n",
              "    <tr>\n",
              "      <th>3</th>\n",
              "      <td>4</td>\n",
              "      <td>1</td>\n",
              "      <td>1</td>\n",
              "      <td>Futrelle, Mrs. Jacques Heath (Lily May Peel)</td>\n",
              "      <td>female</td>\n",
              "      <td>35.0</td>\n",
              "      <td>1</td>\n",
              "      <td>0</td>\n",
              "      <td>113803</td>\n",
              "      <td>53.1000</td>\n",
              "      <td>C123</td>\n",
              "      <td>S</td>\n",
              "    </tr>\n",
              "    <tr>\n",
              "      <th>4</th>\n",
              "      <td>5</td>\n",
              "      <td>0</td>\n",
              "      <td>3</td>\n",
              "      <td>Allen, Mr. William Henry</td>\n",
              "      <td>male</td>\n",
              "      <td>35.0</td>\n",
              "      <td>0</td>\n",
              "      <td>0</td>\n",
              "      <td>373450</td>\n",
              "      <td>8.0500</td>\n",
              "      <td>NaN</td>\n",
              "      <td>S</td>\n",
              "    </tr>\n",
              "    <tr>\n",
              "      <th>...</th>\n",
              "      <td>...</td>\n",
              "      <td>...</td>\n",
              "      <td>...</td>\n",
              "      <td>...</td>\n",
              "      <td>...</td>\n",
              "      <td>...</td>\n",
              "      <td>...</td>\n",
              "      <td>...</td>\n",
              "      <td>...</td>\n",
              "      <td>...</td>\n",
              "      <td>...</td>\n",
              "      <td>...</td>\n",
              "    </tr>\n",
              "    <tr>\n",
              "      <th>886</th>\n",
              "      <td>887</td>\n",
              "      <td>0</td>\n",
              "      <td>2</td>\n",
              "      <td>Montvila, Rev. Juozas</td>\n",
              "      <td>male</td>\n",
              "      <td>27.0</td>\n",
              "      <td>0</td>\n",
              "      <td>0</td>\n",
              "      <td>211536</td>\n",
              "      <td>13.0000</td>\n",
              "      <td>NaN</td>\n",
              "      <td>S</td>\n",
              "    </tr>\n",
              "    <tr>\n",
              "      <th>887</th>\n",
              "      <td>888</td>\n",
              "      <td>1</td>\n",
              "      <td>1</td>\n",
              "      <td>Graham, Miss. Margaret Edith</td>\n",
              "      <td>female</td>\n",
              "      <td>19.0</td>\n",
              "      <td>0</td>\n",
              "      <td>0</td>\n",
              "      <td>112053</td>\n",
              "      <td>30.0000</td>\n",
              "      <td>B42</td>\n",
              "      <td>S</td>\n",
              "    </tr>\n",
              "    <tr>\n",
              "      <th>888</th>\n",
              "      <td>889</td>\n",
              "      <td>0</td>\n",
              "      <td>3</td>\n",
              "      <td>Johnston, Miss. Catherine Helen \"Carrie\"</td>\n",
              "      <td>female</td>\n",
              "      <td>NaN</td>\n",
              "      <td>1</td>\n",
              "      <td>2</td>\n",
              "      <td>W./C. 6607</td>\n",
              "      <td>23.4500</td>\n",
              "      <td>NaN</td>\n",
              "      <td>S</td>\n",
              "    </tr>\n",
              "    <tr>\n",
              "      <th>889</th>\n",
              "      <td>890</td>\n",
              "      <td>1</td>\n",
              "      <td>1</td>\n",
              "      <td>Behr, Mr. Karl Howell</td>\n",
              "      <td>male</td>\n",
              "      <td>26.0</td>\n",
              "      <td>0</td>\n",
              "      <td>0</td>\n",
              "      <td>111369</td>\n",
              "      <td>30.0000</td>\n",
              "      <td>C148</td>\n",
              "      <td>C</td>\n",
              "    </tr>\n",
              "    <tr>\n",
              "      <th>890</th>\n",
              "      <td>891</td>\n",
              "      <td>0</td>\n",
              "      <td>3</td>\n",
              "      <td>Dooley, Mr. Patrick</td>\n",
              "      <td>male</td>\n",
              "      <td>32.0</td>\n",
              "      <td>0</td>\n",
              "      <td>0</td>\n",
              "      <td>370376</td>\n",
              "      <td>7.7500</td>\n",
              "      <td>NaN</td>\n",
              "      <td>Q</td>\n",
              "    </tr>\n",
              "  </tbody>\n",
              "</table>\n",
              "<p>891 rows × 12 columns</p>\n",
              "</div>"
            ],
            "text/plain": [
              "     PassengerId  Survived  Pclass  ...     Fare Cabin  Embarked\n",
              "0              1         0       3  ...   7.2500   NaN         S\n",
              "1              2         1       1  ...  71.2833   C85         C\n",
              "2              3         1       3  ...   7.9250   NaN         S\n",
              "3              4         1       1  ...  53.1000  C123         S\n",
              "4              5         0       3  ...   8.0500   NaN         S\n",
              "..           ...       ...     ...  ...      ...   ...       ...\n",
              "886          887         0       2  ...  13.0000   NaN         S\n",
              "887          888         1       1  ...  30.0000   B42         S\n",
              "888          889         0       3  ...  23.4500   NaN         S\n",
              "889          890         1       1  ...  30.0000  C148         C\n",
              "890          891         0       3  ...   7.7500   NaN         Q\n",
              "\n",
              "[891 rows x 12 columns]"
            ]
          },
          "metadata": {},
          "execution_count": 2
        }
      ]
    },
    {
      "cell_type": "code",
      "metadata": {
        "id": "_-wlxzF6jg36"
      },
      "source": [
        "train_set = train_set[ train_set['Embarked'] != 0 ]"
      ],
      "execution_count": null,
      "outputs": []
    },
    {
      "cell_type": "code",
      "metadata": {
        "colab": {
          "base_uri": "https://localhost:8080/",
          "height": 202
        },
        "id": "8xx1pPzKji7R",
        "outputId": "f14cb523-09f8-47ae-9f98-1a1d0ff8c980"
      },
      "source": [
        "\n",
        "x_train = train_set.drop(['PassengerId','Name','Ticket','Survived', 'Cabin'], axis=1)\n",
        "y_train = train_set['Survived']\n",
        "x_test = test_set.drop(['PassengerId','Name','Ticket', 'Cabin'], axis=1)\n",
        "\n",
        "x_train['Age'] = x_train['Age'].fillna(x_train['Age'].mean())\n",
        "x_test['Age'] = x_test['Age'].fillna(x_test['Age'].mean())\n",
        "\n",
        "x_train = x_train.fillna(float(0.0))\n",
        "x_test = x_test.fillna(float(0.0))\n",
        "x_test.head()\n"
      ],
      "execution_count": null,
      "outputs": [
        {
          "output_type": "execute_result",
          "data": {
            "text/html": [
              "<div>\n",
              "<style scoped>\n",
              "    .dataframe tbody tr th:only-of-type {\n",
              "        vertical-align: middle;\n",
              "    }\n",
              "\n",
              "    .dataframe tbody tr th {\n",
              "        vertical-align: top;\n",
              "    }\n",
              "\n",
              "    .dataframe thead th {\n",
              "        text-align: right;\n",
              "    }\n",
              "</style>\n",
              "<table border=\"1\" class=\"dataframe\">\n",
              "  <thead>\n",
              "    <tr style=\"text-align: right;\">\n",
              "      <th></th>\n",
              "      <th>Pclass</th>\n",
              "      <th>Sex</th>\n",
              "      <th>Age</th>\n",
              "      <th>SibSp</th>\n",
              "      <th>Parch</th>\n",
              "      <th>Fare</th>\n",
              "      <th>Embarked</th>\n",
              "    </tr>\n",
              "  </thead>\n",
              "  <tbody>\n",
              "    <tr>\n",
              "      <th>0</th>\n",
              "      <td>3</td>\n",
              "      <td>male</td>\n",
              "      <td>34.5</td>\n",
              "      <td>0</td>\n",
              "      <td>0</td>\n",
              "      <td>7.8292</td>\n",
              "      <td>Q</td>\n",
              "    </tr>\n",
              "    <tr>\n",
              "      <th>1</th>\n",
              "      <td>3</td>\n",
              "      <td>female</td>\n",
              "      <td>47.0</td>\n",
              "      <td>1</td>\n",
              "      <td>0</td>\n",
              "      <td>7.0000</td>\n",
              "      <td>S</td>\n",
              "    </tr>\n",
              "    <tr>\n",
              "      <th>2</th>\n",
              "      <td>2</td>\n",
              "      <td>male</td>\n",
              "      <td>62.0</td>\n",
              "      <td>0</td>\n",
              "      <td>0</td>\n",
              "      <td>9.6875</td>\n",
              "      <td>Q</td>\n",
              "    </tr>\n",
              "    <tr>\n",
              "      <th>3</th>\n",
              "      <td>3</td>\n",
              "      <td>male</td>\n",
              "      <td>27.0</td>\n",
              "      <td>0</td>\n",
              "      <td>0</td>\n",
              "      <td>8.6625</td>\n",
              "      <td>S</td>\n",
              "    </tr>\n",
              "    <tr>\n",
              "      <th>4</th>\n",
              "      <td>3</td>\n",
              "      <td>female</td>\n",
              "      <td>22.0</td>\n",
              "      <td>1</td>\n",
              "      <td>1</td>\n",
              "      <td>12.2875</td>\n",
              "      <td>S</td>\n",
              "    </tr>\n",
              "  </tbody>\n",
              "</table>\n",
              "</div>"
            ],
            "text/plain": [
              "   Pclass     Sex   Age  SibSp  Parch     Fare Embarked\n",
              "0       3    male  34.5      0      0   7.8292        Q\n",
              "1       3  female  47.0      1      0   7.0000        S\n",
              "2       2    male  62.0      0      0   9.6875        Q\n",
              "3       3    male  27.0      0      0   8.6625        S\n",
              "4       3  female  22.0      1      1  12.2875        S"
            ]
          },
          "metadata": {},
          "execution_count": 7
        }
      ]
    },
    {
      "cell_type": "code",
      "metadata": {
        "colab": {
          "base_uri": "https://localhost:8080/"
        },
        "id": "mBQFnvQQjl01",
        "outputId": "6c21f667-e020-4eb2-9616-a53bafb69748"
      },
      "source": [
        "x_train = pd.get_dummies(x_train, columns= ['Sex','Embarked']) \n",
        "x_test = pd.get_dummies(x_test, columns= ['Sex','Embarked'])\n",
        "x_train = x_train.drop(['Embarked_0.0'], axis=1)\n",
        "print(x_test.shape)\n",
        "x_train.shape\n"
      ],
      "execution_count": null,
      "outputs": [
        {
          "output_type": "stream",
          "name": "stdout",
          "text": [
            "(418, 10)\n"
          ]
        },
        {
          "output_type": "execute_result",
          "data": {
            "text/plain": [
              "(891, 10)"
            ]
          },
          "metadata": {},
          "execution_count": 8
        }
      ]
    },
    {
      "cell_type": "code",
      "metadata": {
        "colab": {
          "base_uri": "https://localhost:8080/"
        },
        "id": "ysDGHHtEjyDb",
        "outputId": "f87aa425-c176-4749-d993-a0a53b647929"
      },
      "source": [
        "from keras import models\n",
        "from keras import layers\n",
        "from tensorflow.keras import optimizers\n",
        "from keras import losses \n",
        "from keras import metrics\n",
        "\n",
        "\n",
        "model = models.Sequential()\n",
        "\n",
        "model.add(layers.Dense(32, activation='relu', input_shape=(10,)))\n",
        "model.add(layers.Dense(16, activation='relu', input_shape=(10,)))\n",
        "model.add(layers.Dense(8, activation='relu', input_shape=(10,)))\n",
        "model.add(layers.Dense(1, activation='sigmoid', input_shape=(10,)))\n",
        "\n",
        "model.compile(optimizer=optimizers.RMSprop(lr=0.001),loss=losses.binary_crossentropy,metrics=[metrics.binary_accuracy])\n",
        "\n",
        "model.fit(x_train, y_train, epochs=80)\n"
      ],
      "execution_count": null,
      "outputs": [
        {
          "output_type": "stream",
          "name": "stderr",
          "text": [
            "/usr/local/lib/python3.7/dist-packages/keras/optimizer_v2/optimizer_v2.py:356: UserWarning: The `lr` argument is deprecated, use `learning_rate` instead.\n",
            "  \"The `lr` argument is deprecated, use `learning_rate` instead.\")\n"
          ]
        },
        {
          "output_type": "stream",
          "name": "stdout",
          "text": [
            "Epoch 1/80\n",
            "28/28 [==============================] - 1s 3ms/step - loss: 4.2597 - binary_accuracy: 0.5870\n",
            "Epoch 2/80\n",
            "28/28 [==============================] - 0s 2ms/step - loss: 0.6777 - binary_accuracy: 0.6756\n",
            "Epoch 3/80\n",
            "28/28 [==============================] - 0s 2ms/step - loss: 0.6290 - binary_accuracy: 0.6813\n",
            "Epoch 4/80\n",
            "28/28 [==============================] - 0s 2ms/step - loss: 0.6031 - binary_accuracy: 0.6902\n",
            "Epoch 5/80\n",
            "28/28 [==============================] - 0s 2ms/step - loss: 0.5870 - binary_accuracy: 0.7048\n",
            "Epoch 6/80\n",
            "28/28 [==============================] - 0s 2ms/step - loss: 0.5838 - binary_accuracy: 0.7059\n",
            "Epoch 7/80\n",
            "28/28 [==============================] - 0s 2ms/step - loss: 0.5715 - binary_accuracy: 0.7093\n",
            "Epoch 8/80\n",
            "28/28 [==============================] - 0s 2ms/step - loss: 0.5513 - binary_accuracy: 0.7329\n",
            "Epoch 9/80\n",
            "28/28 [==============================] - 0s 2ms/step - loss: 0.5537 - binary_accuracy: 0.7374\n",
            "Epoch 10/80\n",
            "28/28 [==============================] - 0s 2ms/step - loss: 0.5424 - binary_accuracy: 0.7374\n",
            "Epoch 11/80\n",
            "28/28 [==============================] - 0s 3ms/step - loss: 0.5189 - binary_accuracy: 0.7486\n",
            "Epoch 12/80\n",
            "28/28 [==============================] - 0s 2ms/step - loss: 0.5153 - binary_accuracy: 0.7565\n",
            "Epoch 13/80\n",
            "28/28 [==============================] - 0s 2ms/step - loss: 0.4987 - binary_accuracy: 0.7654\n",
            "Epoch 14/80\n",
            "28/28 [==============================] - 0s 2ms/step - loss: 0.4995 - binary_accuracy: 0.7654\n",
            "Epoch 15/80\n",
            "28/28 [==============================] - 0s 2ms/step - loss: 0.5098 - binary_accuracy: 0.7767\n",
            "Epoch 16/80\n",
            "28/28 [==============================] - 0s 2ms/step - loss: 0.4989 - binary_accuracy: 0.7834\n",
            "Epoch 17/80\n",
            "28/28 [==============================] - 0s 2ms/step - loss: 0.4839 - binary_accuracy: 0.7856\n",
            "Epoch 18/80\n",
            "28/28 [==============================] - 0s 2ms/step - loss: 0.4771 - binary_accuracy: 0.7868\n",
            "Epoch 19/80\n",
            "28/28 [==============================] - 0s 2ms/step - loss: 0.4725 - binary_accuracy: 0.7901\n",
            "Epoch 20/80\n",
            "28/28 [==============================] - 0s 2ms/step - loss: 0.4711 - binary_accuracy: 0.7957\n",
            "Epoch 21/80\n",
            "28/28 [==============================] - 0s 2ms/step - loss: 0.4662 - binary_accuracy: 0.7879\n",
            "Epoch 22/80\n",
            "28/28 [==============================] - 0s 2ms/step - loss: 0.4676 - binary_accuracy: 0.7901\n",
            "Epoch 23/80\n",
            "28/28 [==============================] - 0s 2ms/step - loss: 0.4541 - binary_accuracy: 0.8058\n",
            "Epoch 24/80\n",
            "28/28 [==============================] - 0s 3ms/step - loss: 0.4587 - binary_accuracy: 0.8013\n",
            "Epoch 25/80\n",
            "28/28 [==============================] - 0s 2ms/step - loss: 0.4484 - binary_accuracy: 0.8114\n",
            "Epoch 26/80\n",
            "28/28 [==============================] - 0s 2ms/step - loss: 0.4634 - binary_accuracy: 0.8013\n",
            "Epoch 27/80\n",
            "28/28 [==============================] - 0s 2ms/step - loss: 0.4551 - binary_accuracy: 0.7957\n",
            "Epoch 28/80\n",
            "28/28 [==============================] - 0s 1ms/step - loss: 0.4422 - binary_accuracy: 0.8103\n",
            "Epoch 29/80\n",
            "28/28 [==============================] - 0s 3ms/step - loss: 0.4641 - binary_accuracy: 0.7935\n",
            "Epoch 30/80\n",
            "28/28 [==============================] - 0s 2ms/step - loss: 0.4446 - binary_accuracy: 0.8047\n",
            "Epoch 31/80\n",
            "28/28 [==============================] - 0s 3ms/step - loss: 0.4608 - binary_accuracy: 0.8013\n",
            "Epoch 32/80\n",
            "28/28 [==============================] - 0s 3ms/step - loss: 0.4711 - binary_accuracy: 0.7980\n",
            "Epoch 33/80\n",
            "28/28 [==============================] - 0s 2ms/step - loss: 0.4499 - binary_accuracy: 0.8002\n",
            "Epoch 34/80\n",
            "28/28 [==============================] - 0s 2ms/step - loss: 0.4436 - binary_accuracy: 0.8103\n",
            "Epoch 35/80\n",
            "28/28 [==============================] - 0s 2ms/step - loss: 0.4558 - binary_accuracy: 0.8002\n",
            "Epoch 36/80\n",
            "28/28 [==============================] - 0s 2ms/step - loss: 0.4489 - binary_accuracy: 0.8036\n",
            "Epoch 37/80\n",
            "28/28 [==============================] - 0s 2ms/step - loss: 0.4469 - binary_accuracy: 0.8025\n",
            "Epoch 38/80\n",
            "28/28 [==============================] - 0s 2ms/step - loss: 0.4469 - binary_accuracy: 0.8047\n",
            "Epoch 39/80\n",
            "28/28 [==============================] - 0s 2ms/step - loss: 0.4343 - binary_accuracy: 0.8025\n",
            "Epoch 40/80\n",
            "28/28 [==============================] - 0s 3ms/step - loss: 0.4519 - binary_accuracy: 0.7935\n",
            "Epoch 41/80\n",
            "28/28 [==============================] - 0s 2ms/step - loss: 0.4597 - binary_accuracy: 0.8070\n",
            "Epoch 42/80\n",
            "28/28 [==============================] - 0s 2ms/step - loss: 0.4301 - binary_accuracy: 0.8114\n",
            "Epoch 43/80\n",
            "28/28 [==============================] - 0s 2ms/step - loss: 0.4419 - binary_accuracy: 0.7980\n",
            "Epoch 44/80\n",
            "28/28 [==============================] - 0s 3ms/step - loss: 0.4446 - binary_accuracy: 0.8047\n",
            "Epoch 45/80\n",
            "28/28 [==============================] - 0s 2ms/step - loss: 0.4584 - binary_accuracy: 0.7946\n",
            "Epoch 46/80\n",
            "28/28 [==============================] - 0s 2ms/step - loss: 0.4657 - binary_accuracy: 0.8159\n",
            "Epoch 47/80\n",
            "28/28 [==============================] - 0s 2ms/step - loss: 0.4317 - binary_accuracy: 0.8047\n",
            "Epoch 48/80\n",
            "28/28 [==============================] - 0s 2ms/step - loss: 0.4523 - binary_accuracy: 0.7991\n",
            "Epoch 49/80\n",
            "28/28 [==============================] - 0s 2ms/step - loss: 0.4331 - binary_accuracy: 0.7969\n",
            "Epoch 50/80\n",
            "28/28 [==============================] - 0s 2ms/step - loss: 0.4479 - binary_accuracy: 0.7991\n",
            "Epoch 51/80\n",
            "28/28 [==============================] - 0s 2ms/step - loss: 0.4388 - binary_accuracy: 0.8058\n",
            "Epoch 52/80\n",
            "28/28 [==============================] - 0s 2ms/step - loss: 0.4404 - binary_accuracy: 0.8092\n",
            "Epoch 53/80\n",
            "28/28 [==============================] - 0s 3ms/step - loss: 0.4244 - binary_accuracy: 0.8103\n",
            "Epoch 54/80\n",
            "28/28 [==============================] - 0s 2ms/step - loss: 0.4426 - binary_accuracy: 0.7957\n",
            "Epoch 55/80\n",
            "28/28 [==============================] - 0s 2ms/step - loss: 0.4420 - binary_accuracy: 0.8058\n",
            "Epoch 56/80\n",
            "28/28 [==============================] - 0s 2ms/step - loss: 0.4324 - binary_accuracy: 0.8114\n",
            "Epoch 57/80\n",
            "28/28 [==============================] - 0s 2ms/step - loss: 0.4450 - binary_accuracy: 0.7969\n",
            "Epoch 58/80\n",
            "28/28 [==============================] - 0s 2ms/step - loss: 0.4402 - binary_accuracy: 0.8058\n",
            "Epoch 59/80\n",
            "28/28 [==============================] - 0s 2ms/step - loss: 0.4382 - binary_accuracy: 0.8013\n",
            "Epoch 60/80\n",
            "28/28 [==============================] - 0s 3ms/step - loss: 0.4355 - binary_accuracy: 0.8171\n",
            "Epoch 61/80\n",
            "28/28 [==============================] - 0s 2ms/step - loss: 0.4288 - binary_accuracy: 0.8036\n",
            "Epoch 62/80\n",
            "28/28 [==============================] - 0s 3ms/step - loss: 0.4387 - binary_accuracy: 0.8013\n",
            "Epoch 63/80\n",
            "28/28 [==============================] - 0s 2ms/step - loss: 0.4415 - binary_accuracy: 0.8047\n",
            "Epoch 64/80\n",
            "28/28 [==============================] - 0s 3ms/step - loss: 0.4287 - binary_accuracy: 0.8058\n",
            "Epoch 65/80\n",
            "28/28 [==============================] - 0s 2ms/step - loss: 0.4247 - binary_accuracy: 0.8036\n",
            "Epoch 66/80\n",
            "28/28 [==============================] - 0s 3ms/step - loss: 0.4392 - binary_accuracy: 0.8025\n",
            "Epoch 67/80\n",
            "28/28 [==============================] - 0s 2ms/step - loss: 0.4259 - binary_accuracy: 0.8148\n",
            "Epoch 68/80\n",
            "28/28 [==============================] - 0s 2ms/step - loss: 0.4412 - binary_accuracy: 0.8047\n",
            "Epoch 69/80\n",
            "28/28 [==============================] - 0s 2ms/step - loss: 0.4367 - binary_accuracy: 0.8036\n",
            "Epoch 70/80\n",
            "28/28 [==============================] - 0s 2ms/step - loss: 0.4460 - binary_accuracy: 0.8025\n",
            "Epoch 71/80\n",
            "28/28 [==============================] - 0s 2ms/step - loss: 0.4340 - binary_accuracy: 0.8070\n",
            "Epoch 72/80\n",
            "28/28 [==============================] - 0s 2ms/step - loss: 0.4292 - binary_accuracy: 0.8070\n",
            "Epoch 73/80\n",
            "28/28 [==============================] - 0s 3ms/step - loss: 0.4343 - binary_accuracy: 0.7935\n",
            "Epoch 74/80\n",
            "28/28 [==============================] - 0s 2ms/step - loss: 0.4191 - binary_accuracy: 0.8193\n",
            "Epoch 75/80\n",
            "28/28 [==============================] - 0s 2ms/step - loss: 0.4414 - binary_accuracy: 0.8081\n",
            "Epoch 76/80\n",
            "28/28 [==============================] - 0s 2ms/step - loss: 0.4173 - binary_accuracy: 0.8215\n",
            "Epoch 77/80\n",
            "28/28 [==============================] - 0s 2ms/step - loss: 0.4420 - binary_accuracy: 0.8159\n",
            "Epoch 78/80\n",
            "28/28 [==============================] - 0s 2ms/step - loss: 0.4227 - binary_accuracy: 0.8103\n",
            "Epoch 79/80\n",
            "28/28 [==============================] - 0s 2ms/step - loss: 0.4351 - binary_accuracy: 0.8081\n",
            "Epoch 80/80\n",
            "28/28 [==============================] - 0s 2ms/step - loss: 0.4309 - binary_accuracy: 0.8137\n"
          ]
        },
        {
          "output_type": "execute_result",
          "data": {
            "text/plain": [
              "<keras.callbacks.History at 0x7ff324b65d50>"
            ]
          },
          "metadata": {},
          "execution_count": 18
        }
      ]
    },
    {
      "cell_type": "code",
      "metadata": {
        "id": "iB80o4xkmCVR"
      },
      "source": [
        "prediction = model.predict(x_test)\n",
        "ids = test_set['PassengerId'].copy()\n",
        "new_output = ids.to_frame()\n",
        "new_output['Prediction']=prediction\n",
        "s=output_set['Survived'].copy()\n",
        "new_output['Real']=s\n"
      ],
      "execution_count": null,
      "outputs": []
    },
    {
      "cell_type": "code",
      "metadata": {
        "colab": {
          "base_uri": "https://localhost:8080/"
        },
        "id": "Jp0iOYp2mX2K",
        "outputId": "92601ac0-8f0a-4e0e-af9a-b80272bcc878"
      },
      "source": [
        "df1 = pd.DataFrame(new_output,columns= ['Prediction', 'Real'])\n",
        "df1['Übereinstimmung?'] = np.where(df1['Prediction'] == df1['Real'], 'True', 'False')                  \n",
        "\n",
        "print(df1)\n",
        "\n",
        "print(f\"Anzahl Richtig: {len(df1[df1['Übereinstimmung?'].str.contains('True')])} || Anzahl Einträge: {len(prediction)} || Accuracy: {len(df1[df1['Übereinstimmung?'].str.contains('True')])/len(prediction)}\") \n",
        " "
      ],
      "execution_count": null,
      "outputs": [
        {
          "output_type": "stream",
          "name": "stdout",
          "text": [
            "     Prediction  Real Übereinstimmung?\n",
            "0      0.092611     0            False\n",
            "1      0.370982     1            False\n",
            "2      0.060180     0            False\n",
            "3      0.085913     0            False\n",
            "4      0.511466     1            False\n",
            "..          ...   ...              ...\n",
            "413    0.080852     0            False\n",
            "414    0.968107     1            False\n",
            "415    0.063141     0            False\n",
            "416    0.080852     0            False\n",
            "417    0.077848     0            False\n",
            "\n",
            "[418 rows x 3 columns]\n",
            "Anzahl Richtig: 0 || Anzahl Einträge: 418 || Accuracy: 0.0\n"
          ]
        }
      ]
    }
  ]
}